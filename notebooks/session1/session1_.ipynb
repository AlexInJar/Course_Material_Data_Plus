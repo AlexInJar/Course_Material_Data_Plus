{
 "cells": [
  {
   "cell_type": "code",
   "execution_count": null,
   "metadata": {},
   "outputs": [],
   "source": [
    "import pandas as pd \n",
    "import numpy as np \n",
    "import matplotlib.pyplot as plt\n",
    "import math as m\n",
    "from numpy.random import randint, choice"
   ]
  },
  {
   "cell_type": "markdown",
   "metadata": {},
   "source": [
    "# Session 1: Introduction"
   ]
  },
  {
   "cell_type": "code",
   "execution_count": null,
   "metadata": {},
   "outputs": [],
   "source": [
    "print(\"Hello, {}\".format('Python Training 😄'))"
   ]
  },
  {
   "cell_type": "code",
   "execution_count": null,
   "metadata": {},
   "outputs": [],
   "source": [
    "\"Hello {:.3f}\".format(m.pi)"
   ]
  },
  {
   "cell_type": "code",
   "execution_count": null,
   "metadata": {},
   "outputs": [],
   "source": [
    "m.sqrt(3)"
   ]
  },
  {
   "cell_type": "markdown",
   "metadata": {},
   "source": [
    "## 1.0 Let us first start with a interesting visualization: the chaos game"
   ]
  },
  {
   "cell_type": "markdown",
   "metadata": {},
   "source": [
    "Start from a vertex of equilateral triangle $v_0$, set it as the current point $p = v_i$ <br>\n",
    "Repeat the following:\n",
    "- Randomly choose a vertex call it $v_i$\n",
    "- Take the mid-point of the current point and the chosed vertex $v_i$, save the point $p$\n",
    "- Take the current point $p$ as $v_0$"
   ]
  },
  {
   "cell_type": "code",
   "execution_count": null,
   "metadata": {},
   "outputs": [],
   "source": [
    "SQRT_3 = m.sqrt(3)\n",
    "trig_xs, trig_ys = [-1,1,0], [0,0,SQRT_3]"
   ]
  },
  {
   "cell_type": "code",
   "execution_count": null,
   "metadata": {},
   "outputs": [],
   "source": [
    "plt.figure(figsize=(7,7))\n",
    "plt.scatter(trig_xs,trig_ys, marker='+')\n",
    "plt.show()"
   ]
  },
  {
   "cell_type": "markdown",
   "metadata": {},
   "source": [
    "## 1. The code for running the game:\n",
    "The toolset you will gain\n",
    "- Python for loops\n",
    "- Assigning variables\n",
    "- Lists, append to lists\n",
    "- Using Randoms Packages\n",
    "- Scatter Plots\n",
    "- Basic animations"
   ]
  },
  {
   "cell_type": "code",
   "execution_count": null,
   "metadata": {},
   "outputs": [],
   "source": [
    "xss, yss, clrs = [], [], []\n",
    "crt_x, crt_y = trig_xs[0], trig_ys[0]\n",
    "\n",
    "for i in range(1,80000):\n",
    "    randidx = randint(0,len(trig_xs))\n",
    "    # randidx = choice(3,p=[0.49,0.02,0.49])\n",
    "    vet_x, vet_y = trig_xs[randidx], trig_ys[randidx]\n",
    "    crt_x, crt_y = (vet_x + crt_x)/2, (vet_y + crt_y)/2\n",
    "\n",
    "    clrs.append(randidx)\n",
    "    xss.append(crt_x)\n",
    "    yss.append(crt_y)"
   ]
  },
  {
   "cell_type": "code",
   "execution_count": null,
   "metadata": {},
   "outputs": [],
   "source": [
    "from matplotlib.animation import FuncAnimation"
   ]
  },
  {
   "cell_type": "code",
   "execution_count": null,
   "metadata": {},
   "outputs": [],
   "source": [
    "plt.rcParams[\"animation.html\"] = \"jshtml\" ## The format to output the animation\n",
    "plt.rcParams['figure.dpi'] = 150 ## The resolution of the animation\n",
    "plt.ioff()\n",
    "fig, ax = plt.subplots(figsize=(7,7))\n",
    "\n",
    "def grw_func(t): # Function dictating how the animation time frame grow\n",
    "    if t < 70:\n",
    "        return t\n",
    "    elif t < 130:\n",
    "        return 30*(t-70) + 70\n",
    "    else:\n",
    "        return 30*pow(t-130,3)+30*(t-70) + 70\n",
    "\n",
    "def animate(t): # Function for static animation of the chaos game\n",
    "    plt.cla()\n",
    "    until_num = grw_func(t)\n",
    "    ax.scatter(x=xss[:until_num],y=yss[:until_num],c=clrs[:until_num],marker='+') ## Plot the points up to until_num as a \"x\"\n",
    "    ax.set_title('Step Number {}'.format(until_num))\n",
    "    ax.set_xlim(-1,1)\n",
    "    ax.set_ylim(-0.07,1.73)\n",
    "\n",
    "FuncAnimation(fig, animate, frames=140)"
   ]
  },
  {
   "cell_type": "code",
   "execution_count": null,
   "metadata": {},
   "outputs": [],
   "source": [
    "plt.figure(figsize=(14,14))\n",
    "plt.scatter(xss,yss, c=clrs, marker='+')\n",
    "plt.show()"
   ]
  },
  {
   "cell_type": "markdown",
   "metadata": {},
   "source": [
    "## Exercise 2: Restricted Chaos game in a square (5 mins)\n",
    "Now that we have seen that we can produce a fractal using chaos game in a Triangle, we shall then try to produce a chaos game in a square.\n",
    "However, if we only use the rule we have earlier, the scatter plot will typically fill up the entire square, leaving a meaningless and indeed quite messy pattern. However, if we we add more restrictions to rule of the generation. Some interesting patterns can emerge.\n",
    "\n",
    "For example, let use use the spirit of the game in triangle. But in this case, discard the vertex chosen if the vertex chosen is adjacent to the last vertex used in last iteration. You can reuse the code we used in the generation of serpenski triangles.\n",
    "\n",
    "- While loops"
   ]
  },
  {
   "cell_type": "code",
   "execution_count": null,
   "metadata": {},
   "outputs": [],
   "source": [
    "# SQRT_3 = m.sqrt(3)\n",
    "sq_xs, sq_ys = [0,1,1,0], [1,1,0,0]\n",
    "\n",
    "plt.figure(figsize=(5,5))\n",
    "plt.scatter(sq_xs,sq_ys, marker='+')\n",
    "plt.show()"
   ]
  },
  {
   "cell_type": "code",
   "execution_count": null,
   "metadata": {},
   "outputs": [],
   "source": [
    "## Write Below this cell"
   ]
  },
  {
   "cell_type": "markdown",
   "metadata": {},
   "source": [
    "## 2 Data Processing in data frames basic\n",
    "# 2.0 Let us turn the data we generated into a data frame"
   ]
  },
  {
   "cell_type": "markdown",
   "metadata": {},
   "source": [
    "- Creating dataframes\n",
    "- Basic dataframe Statistics"
   ]
  },
  {
   "cell_type": "code",
   "execution_count": null,
   "metadata": {},
   "outputs": [],
   "source": [
    "dfserp = pd.DataFrame({'xcorr':xss, 'ycorr':yss,'colors':clrs}) # There are many \n",
    "dfserp.head()"
   ]
  },
  {
   "cell_type": "markdown",
   "metadata": {},
   "source": [
    "### 2.1 Dataframe dumping and loading"
   ]
  },
  {
   "cell_type": "code",
   "execution_count": null,
   "metadata": {},
   "outputs": [],
   "source": [
    "dfserp.to_csv(\"serp.csv\", index=False)"
   ]
  },
  {
   "cell_type": "code",
   "execution_count": null,
   "metadata": {},
   "outputs": [],
   "source": [
    "pd.read_csv('serp.csv')"
   ]
  },
  {
   "cell_type": "markdown",
   "metadata": {},
   "source": [
    "### 2.2 View Dataframe Basic Statistics"
   ]
  },
  {
   "cell_type": "code",
   "execution_count": null,
   "metadata": {},
   "outputs": [],
   "source": [
    "dfserp.describe()"
   ]
  },
  {
   "cell_type": "code",
   "execution_count": null,
   "metadata": {},
   "outputs": [],
   "source": [
    "dfserp.dtypes"
   ]
  },
  {
   "cell_type": "code",
   "execution_count": null,
   "metadata": {},
   "outputs": [],
   "source": [
    "dfserp.info()"
   ]
  },
  {
   "cell_type": "code",
   "execution_count": null,
   "metadata": {},
   "outputs": [],
   "source": [
    "dfserp.max()"
   ]
  },
  {
   "cell_type": "markdown",
   "metadata": {},
   "source": [
    "## 2.3 Subsetting using coordinates and orientation\n",
    "- python functions\n",
    "- Recursion\n",
    "- Dataframe Subsetting in Pandas"
   ]
  },
  {
   "cell_type": "code",
   "execution_count": null,
   "metadata": {},
   "outputs": [],
   "source": [
    "upc = dfserp.apply(lambda rw: rw['ycorr'] > SQRT_3/2.0, axis=1)\n",
    "\n",
    "plt.figure(figsize=(14,14))\n",
    "plt.scatter(dfserp['xcorr'],dfserp['ycorr'], marker='.',c=upc)\n",
    "plt.show()"
   ]
  },
  {
   "cell_type": "code",
   "execution_count": null,
   "metadata": {},
   "outputs": [],
   "source": [
    "## Basic Recursion Implementing Factoriols\n",
    "def rec_factor(i):\n",
    "    if i == 1:\n",
    "        return i\n",
    "    else:\n",
    "        return (i-1)*rec_factor(i)"
   ]
  },
  {
   "cell_type": "code",
   "execution_count": null,
   "metadata": {},
   "outputs": [],
   "source": [
    "rgb_cyc = {\n",
    "    'r':['r','g','b'],\n",
    "    'g':['g','b','r'],\n",
    "    'b':['b','r','g']\n",
    "}\n",
    "\n",
    "PI_2_3 = np.deg2rad(120)"
   ]
  },
  {
   "cell_type": "code",
   "execution_count": null,
   "metadata": {},
   "outputs": [],
   "source": [
    "def assign_col(dflast, x_min, x_max, y_min, y_max, starter, rec_depth):\n",
    "    '''\n",
    "    Assign a column of color to the dataframe column\n",
    "    '''\n",
    "    thresx = (x_min+x_max)/2\n",
    "    thresy = y_min + (y_max-y_min)/2\n",
    "    clrs = rgb_cyc[starter]\n",
    "    if rec_depth > 0:\n",
    "        assign_col(dflast,x_min=x_min,x_max=x_max,y_min=thresy, y_max=y_max,starter=clrs[0], rec_depth=rec_depth-1)\n",
    "        assign_col(dflast,x_min=x_min,x_max=thresx,y_min=y_min, y_max=thresy,starter=clrs[1], rec_depth=rec_depth-1)\n",
    "        assign_col(dflast,x_min=thresx,x_max=x_max,y_min=y_min, y_max=thresy,starter=clrs[2], rec_depth=rec_depth-1)\n",
    "        return \n",
    "    else:\n",
    "        dflast.loc[\n",
    "            dflast['xcorr'].between(x_min, x_max, inclusive=True) & dflast['ycorr'].between(y_min, y_max, inclusive=True), \n",
    "            'clr_{}'.format(rec_depth)\n",
    "            ] = starter\n",
    "        # print(dflast)\n",
    "        return \n"
   ]
  },
  {
   "cell_type": "code",
   "execution_count": null,
   "metadata": {},
   "outputs": [],
   "source": [
    "rec_depth = 5\n",
    "# dfserp['clr_{}'.format(rec_depth)] = np.nan\n",
    "x_min, x_max = dfserp['xcorr'].min(), dfserp['xcorr'].max()\n",
    "y_min, y_max = dfserp['ycorr'].min(), dfserp['ycorr'].max()\n",
    "\n",
    "assign_col(dfserp, x_min=x_min,x_max=x_max,y_min=y_min,y_max=y_max,starter='r',rec_depth=rec_depth)"
   ]
  },
  {
   "cell_type": "code",
   "execution_count": null,
   "metadata": {},
   "outputs": [],
   "source": [
    "plt.figure(figsize=(25,25))\n",
    "plt.scatter(dfserp['xcorr'],dfserp['ycorr'], marker='+',c=dfserp['clr_0'])\n",
    "plt.show()"
   ]
  },
  {
   "cell_type": "code",
   "execution_count": null,
   "metadata": {},
   "outputs": [],
   "source": []
  },
  {
   "cell_type": "markdown",
   "metadata": {},
   "source": [
    "## Exercise 2: Draw Barnley's Fern\n",
    "Choose one linear transformation from four linear transformations, with weighted probability. <br>\n",
    "And used the transformation to perform another chaos game, by iterating the point using the random linear transformation"
   ]
  },
  {
   "cell_type": "markdown",
   "metadata": {},
   "source": []
  },
  {
   "cell_type": "code",
   "execution_count": null,
   "metadata": {},
   "outputs": [],
   "source": [
    "def generate_lineartransformation(a1,b1,c1,a2,b2,c2):\n",
    "    def theF(x, y):\n",
    "        # print(c2)\n",
    "        return a1*x+b1*y+c1, a2*x+b2*y+c2\n",
    "    return theF\n",
    "\n",
    "f1 = generate_lineartransformation(.0,.0,.0,.0,0.16,.0)\n",
    "f2 = generate_lineartransformation(.85,.04,.0,-.04,.85,1.6)\n",
    "f3 = generate_lineartransformation(.20,-.26,.0,.23,.22,1.6)\n",
    "f4 = generate_lineartransformation(-.15,.28,.0,.26,.24,.44)\n",
    "\n",
    "flst = [f1,f2,f3,f4]\n",
    "prob = [.01,.85,.07,.07]"
   ]
  },
  {
   "cell_type": "code",
   "execution_count": null,
   "metadata": {},
   "outputs": [],
   "source": [
    "## Write within this cell\n",
    "## Feel free to change the Parameters"
   ]
  },
  {
   "cell_type": "code",
   "execution_count": null,
   "metadata": {},
   "outputs": [],
   "source": []
  }
 ],
 "metadata": {
  "interpreter": {
   "hash": "d131b0ea759db0f5632b0eb4c6c7b68c9bd75391f4012810998256aaed8f7a6d"
  },
  "kernelspec": {
   "display_name": "Python 3 (ipykernel)",
   "language": "python",
   "name": "python3"
  },
  "language_info": {
   "codemirror_mode": {
    "name": "ipython",
    "version": 3
   },
   "file_extension": ".py",
   "mimetype": "text/x-python",
   "name": "python",
   "nbconvert_exporter": "python",
   "pygments_lexer": "ipython3",
   "version": "3.9.7"
  }
 },
 "nbformat": 4,
 "nbformat_minor": 2
}
