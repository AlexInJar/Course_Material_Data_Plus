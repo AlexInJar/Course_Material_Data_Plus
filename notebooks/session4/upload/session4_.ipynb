{
 "cells": [
  {
   "cell_type": "code",
   "execution_count": null,
   "metadata": {},
   "outputs": [],
   "source": [
    "import geopandas as gpd\n",
    "import geoplot as gplt\n",
    "import pandas as pd "
   ]
  },
  {
   "cell_type": "markdown",
   "metadata": {},
   "source": [
    "## Pre-work: combine two datasets and produce a grouped dataset"
   ]
  },
  {
   "cell_type": "code",
   "execution_count": null,
   "metadata": {},
   "outputs": [],
   "source": [
    "gdf_chprov = gpd.read_file('gadm36_CHN_1.json') # from \n",
    "df_chncovd = pd.read_csv('COVID-19_geo_timeseries_ver_0311.csv') # from https://www.kaggle.com/datasets/lihyalan/2020-corona-virus-timeseries\n",
    "df_chncovd = df_chncovd[df_chncovd['country'] == 'China'].drop(columns=['country_flag'])\n",
    "# gdf_chprov"
   ]
  },
  {
   "cell_type": "code",
   "execution_count": null,
   "metadata": {},
   "outputs": [],
   "source": [
    "provgrp = df_chncovd.groupby(by='province')\n",
    "provgrp"
   ]
  },
  {
   "cell_type": "code",
   "execution_count": null,
   "metadata": {},
   "outputs": [],
   "source": [
    "gdf_chprov['NAME_1'] = gdf_chprov['NAME_1'].replace(\n",
    "    {'Ningxia Hui': 'Ningxia', 'Xinjiang Uygur': 'Xinjiang','Xizang':'Tibet','Nei Mongol':'Inner Mongolia'}\n",
    ")"
   ]
  },
  {
   "cell_type": "code",
   "execution_count": null,
   "metadata": {},
   "outputs": [],
   "source": [
    "provinces = df_chncovd['province'].unique()\n",
    "geo_povs = gdf_chprov['NAME_1'].unique()\n",
    "for prov in provinces:\n",
    "    if prov not in geo_povs:\n",
    "        print(prov)"
   ]
  },
  {
   "cell_type": "code",
   "execution_count": null,
   "metadata": {},
   "outputs": [],
   "source": [
    "for prov in geo_povs:\n",
    "    if prov not in provinces:\n",
    "        print(prov)"
   ]
  },
  {
   "cell_type": "code",
   "execution_count": null,
   "metadata": {},
   "outputs": [],
   "source": [
    "gdf_chprov"
   ]
  },
  {
   "cell_type": "code",
   "execution_count": null,
   "metadata": {},
   "outputs": [],
   "source": [
    "df_chncovd['update_time'] = pd.to_datetime(df_chncovd['update_time'])"
   ]
  },
  {
   "cell_type": "code",
   "execution_count": null,
   "metadata": {},
   "outputs": [],
   "source": [
    "dfhk = df_chncovd[df_chncovd['province'] == 'Hong Kong'].sort_values(by='update_time')\n",
    "dfhk.head()"
   ]
  },
  {
   "cell_type": "code",
   "execution_count": null,
   "metadata": {},
   "outputs": [],
   "source": [
    "dfhk['data_source'].value_counts()"
   ]
  },
  {
   "cell_type": "code",
   "execution_count": null,
   "metadata": {},
   "outputs": [],
   "source": [
    "import matplotlib.pyplot as plt"
   ]
  },
  {
   "cell_type": "code",
   "execution_count": null,
   "metadata": {},
   "outputs": [],
   "source": [
    "dfjhu = dfhk[dfhk['data_source'] == 'jhu']\n",
    "plt.figure(figsize=(14,7))\n",
    "plt.plot(dfjhu['update_time'], dfjhu['confirmed_cases'])\n",
    "plt.xlabel('Date')\n",
    "plt.ylabel('Confirmed Cases')\n",
    "plt.show()"
   ]
  },
  {
   "cell_type": "markdown",
   "metadata": {},
   "source": [
    "### Exercise 1 Create a linechart showing the confirmed trendline of Shanghai and Hong Kong of jhu, try adding legend to make clear which is which (2 mins)"
   ]
  },
  {
   "cell_type": "code",
   "execution_count": null,
   "metadata": {},
   "outputs": [],
   "source": [
    "dfhk = df_chncovd[df_chncovd['province'] == 'Hong Kong'].sort_values(by='update_time')\n",
    "dfsh = df_chncovd[df_chncovd['province'] == 'Shanghai'].sort_values(by='update_time')\n",
    "\n",
    "dfhkjhu = dfhk[dfhk['data_source'] == 'jhu']\n",
    "dfshjhu = dfsh[dfsh['data_source'] == 'jhu']\n",
    "plt.figure(figsize=(14,7))\n",
    "plt.plot(dfhkjhu['update_time'], dfhkjhu['confirmed_cases'], label='Hong Kong')\n",
    "plt.plot(dfshjhu['update_time'], dfshjhu['confirmed_cases'], label='Shanghai')\n",
    "plt.xlabel('Date')\n",
    "plt.ylabel('Confirmed Cases')\n",
    "plt.legend()\n",
    "plt.show()"
   ]
  },
  {
   "cell_type": "markdown",
   "metadata": {},
   "source": [
    "## Introduction to Geopandas and Shapely\n",
    "Based on Geopandas documents from https://residentmario.github.io/geoplot/user_guide/Working_with_Geospatial_Data.html"
   ]
  },
  {
   "cell_type": "code",
   "execution_count": null,
   "metadata": {},
   "outputs": [],
   "source": [
    "gdf_chprov.geometry"
   ]
  },
  {
   "cell_type": "code",
   "execution_count": null,
   "metadata": {},
   "outputs": [],
   "source": [
    "geosrs = gdf_chprov.geometry"
   ]
  },
  {
   "cell_type": "code",
   "execution_count": null,
   "metadata": {},
   "outputs": [],
   "source": [
    "geosrs.to_file(\n",
    "    'chnprov.geojson',\n",
    "    driver='GeoJSON'\n",
    ")"
   ]
  },
  {
   "cell_type": "code",
   "execution_count": null,
   "metadata": {},
   "outputs": [],
   "source": [
    "gdf_chprov.crs"
   ]
  },
  {
   "cell_type": "code",
   "execution_count": null,
   "metadata": {},
   "outputs": [],
   "source": [
    "gpd.read_file('chnprov.geojson')"
   ]
  },
  {
   "cell_type": "code",
   "execution_count": null,
   "metadata": {},
   "outputs": [],
   "source": [
    "import fiona\n",
    "fiona.supported_drivers"
   ]
  },
  {
   "cell_type": "code",
   "execution_count": null,
   "metadata": {},
   "outputs": [],
   "source": [
    "geosrs.to_file(\n",
    "    'geoshp.shp',\n",
    "    driver='ESRI Shapefile'\n",
    ")"
   ]
  },
  {
   "cell_type": "code",
   "execution_count": null,
   "metadata": {},
   "outputs": [],
   "source": [
    "gpd.read_file('geoshp.shp')"
   ]
  },
  {
   "cell_type": "markdown",
   "metadata": {},
   "source": [
    "### More on the Geometric Processing\n",
    "- Spherical Coordinates\n",
    "- Cartesian Coordinates\n",
    "<br> Parallel posture"
   ]
  },
  {
   "cell_type": "code",
   "execution_count": null,
   "metadata": {},
   "outputs": [],
   "source": [
    "nyc_map_pluto_sample = gpd.read_file(gplt.datasets.get_path('nyc_map_pluto_sample'))\n",
    "nyc_map_pluto_sample"
   ]
  },
  {
   "cell_type": "code",
   "execution_count": null,
   "metadata": {},
   "outputs": [],
   "source": [
    "nyc_map_pluto_sample.crs"
   ]
  },
  {
   "cell_type": "code",
   "execution_count": null,
   "metadata": {},
   "outputs": [],
   "source": [
    "gdf_chprov.head(4)"
   ]
  },
  {
   "cell_type": "code",
   "execution_count": null,
   "metadata": {},
   "outputs": [],
   "source": [
    "thepoly = gdf_chprov.geometry[4]\n",
    "thecvh = thepoly.convex_hull"
   ]
  },
  {
   "cell_type": "code",
   "execution_count": null,
   "metadata": {},
   "outputs": [],
   "source": [
    "thepoly"
   ]
  },
  {
   "cell_type": "code",
   "execution_count": null,
   "metadata": {},
   "outputs": [],
   "source": [
    "type(thepoly)"
   ]
  },
  {
   "cell_type": "markdown",
   "metadata": {},
   "source": [
    "- Point\n",
    "- MultiPoint\n",
    "- LineString\n",
    "- Polygon\n",
    "- MultiPolygon"
   ]
  },
  {
   "cell_type": "code",
   "execution_count": null,
   "metadata": {},
   "outputs": [],
   "source": [
    "thecvh"
   ]
  },
  {
   "cell_type": "code",
   "execution_count": null,
   "metadata": {},
   "outputs": [],
   "source": [
    "import geoplot.crs as gcrs\n",
    "\n",
    "ctr = gdf_chprov.geometry[0].centroid\n",
    "poly = gdf_chprov.geometry[0]\n",
    "\n",
    "ax = gplt.pointplot(\n",
    "    gpd.GeoDataFrame(geometry=[thepoly.centroid, thecvh.centroid]),\n",
    "    figsize=(7,7)\n",
    ")\n",
    "\n",
    "ax = gplt.polyplot(\n",
    "    gpd.GeoDataFrame(geometry=[thepoly, thecvh]),\n",
    "    ax=ax\n",
    ")\n",
    "plt.show()"
   ]
  },
  {
   "cell_type": "code",
   "execution_count": null,
   "metadata": {},
   "outputs": [],
   "source": [
    "# gdf_chprov[gdf_chprov['NAME_1'].isin(['Shanghai', 'Jiangsu'])].geometry"
   ]
  },
  {
   "cell_type": "code",
   "execution_count": null,
   "metadata": {},
   "outputs": [],
   "source": [
    "Shply = gdf_chprov[gdf_chprov['NAME_1'].isin(['Shanghai', 'Jiangsu'])].geometry[23]\n",
    "Jsply = gdf_chprov[gdf_chprov['NAME_1'].isin(['Shanghai', 'Jiangsu'])].geometry[14]"
   ]
  },
  {
   "cell_type": "code",
   "execution_count": null,
   "metadata": {},
   "outputs": [],
   "source": [
    "Shply"
   ]
  },
  {
   "cell_type": "code",
   "execution_count": null,
   "metadata": {},
   "outputs": [],
   "source": [
    "Jsply"
   ]
  },
  {
   "cell_type": "code",
   "execution_count": null,
   "metadata": {},
   "outputs": [],
   "source": [
    "gplt.polyplot(\n",
    "    gpd.GeoDataFrame(geometry=[Shply, Jsply]),\n",
    "    figsize=(7,7)\n",
    ")\n",
    "plt.show()"
   ]
  },
  {
   "cell_type": "code",
   "execution_count": null,
   "metadata": {},
   "outputs": [],
   "source": [
    "from shapely.ops import triangulate"
   ]
  },
  {
   "cell_type": "code",
   "execution_count": null,
   "metadata": {},
   "outputs": [],
   "source": [
    "Shply"
   ]
  },
  {
   "cell_type": "code",
   "execution_count": null,
   "metadata": {},
   "outputs": [],
   "source": [
    "# thepoly.contains(thecvh.centroid)\n",
    "gplt.polyplot(\n",
    "    gpd.GeoDataFrame(geometry=triangulate(Shply)),\n",
    "    figsize=(7,7)\n",
    ")\n",
    "plt.show()"
   ]
  },
  {
   "cell_type": "markdown",
   "metadata": {},
   "source": [
    "## Make Choropleth for the total number of confirmed cases"
   ]
  },
  {
   "cell_type": "code",
   "execution_count": null,
   "metadata": {},
   "outputs": [],
   "source": [
    "import numpy as np"
   ]
  },
  {
   "cell_type": "code",
   "execution_count": null,
   "metadata": {},
   "outputs": [],
   "source": [
    "df_chncovd"
   ]
  },
  {
   "cell_type": "code",
   "execution_count": null,
   "metadata": {},
   "outputs": [],
   "source": [
    "# df_chncovd['update_time'].describe()\n",
    "# First we need to find such data for each provinces:\n",
    "df_confirmed = df_chncovd.groupby(by='province').apply(lambda df: df[df['update_time']== max(df['update_time'])])[\n",
    "    ['confirmed_cases','deaths','recovered','province']\n",
    "]"
   ]
  },
  {
   "cell_type": "code",
   "execution_count": null,
   "metadata": {},
   "outputs": [],
   "source": [
    "df_confirmed = df_confirmed[df_confirmed['confirmed_cases']>0].set_index('province')"
   ]
  },
  {
   "cell_type": "code",
   "execution_count": null,
   "metadata": {},
   "outputs": [],
   "source": [
    "gdf_ch = pd.concat(\n",
    "    [gdf_chprov.set_index('NAME_1'), df_confirmed], axis=1\n",
    ")\n",
    "gdf_ch = gdf_ch.dropna()"
   ]
  },
  {
   "cell_type": "code",
   "execution_count": null,
   "metadata": {},
   "outputs": [],
   "source": [
    "fig, ax = plt.subplots(figsize=(18,10))\n",
    "gdf_ch['cfmed_log'] = np.log(gdf_ch['confirmed_cases'])\n",
    "gplt.choropleth(\n",
    "    gdf_ch,\n",
    "    hue='cfmed_log',\n",
    "    legend=True,\n",
    "    ax=ax\n",
    ")\n",
    "plt.title(\"Log Confirmed Cases\", fontsize=20)\n",
    "plt.show()"
   ]
  },
  {
   "cell_type": "markdown",
   "metadata": {},
   "source": [
    "### Exercise 2: Create a choropleth of confirmed death using log scale "
   ]
  },
  {
   "cell_type": "code",
   "execution_count": null,
   "metadata": {},
   "outputs": [],
   "source": []
  }
 ],
 "metadata": {
  "interpreter": {
   "hash": "d131b0ea759db0f5632b0eb4c6c7b68c9bd75391f4012810998256aaed8f7a6d"
  },
  "kernelspec": {
   "display_name": "Python 3.9.7 ('geo_env')",
   "language": "python",
   "name": "python3"
  },
  "language_info": {
   "codemirror_mode": {
    "name": "ipython",
    "version": 3
   },
   "file_extension": ".py",
   "mimetype": "text/x-python",
   "name": "python",
   "nbconvert_exporter": "python",
   "pygments_lexer": "ipython3",
   "version": "3.9.7"
  },
  "orig_nbformat": 4
 },
 "nbformat": 4,
 "nbformat_minor": 2
}
