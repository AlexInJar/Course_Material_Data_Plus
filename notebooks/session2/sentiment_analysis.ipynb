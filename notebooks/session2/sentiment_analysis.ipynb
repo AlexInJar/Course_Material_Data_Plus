{
  "cells": [
    {
      "cell_type": "markdown",
      "metadata": {
        "id": "rpGyR-YI5b0G"
      },
      "source": [
        "#Import Tweets Data "
      ]
    },
    {
      "cell_type": "markdown",
      "metadata": {
        "id": "bJoupv7u5en8"
      },
      "source": [
        "\n",
        "1.   Import Tweets from sntwitter API (https://github.com/JustAnotherArchivist/snscrape)\n",
        "\n",
        "2.   Clean up data - Remove special characters, emojis, memes in each tweets"
      ]
    },
    {
      "cell_type": "code",
      "execution_count": 1,
      "metadata": {
        "colab": {
          "base_uri": "https://localhost:8080/"
        },
        "id": "TL4hnDjRfBdJ",
        "outputId": "4cfa627c-f3eb-4da1-a8ad-c523a6f2c287"
      },
      "outputs": [],
      "source": [
        "import numpy as np\n",
        "import pandas as pd\n",
        "from nltk.classify import NaiveBayesClassifier\n",
        "from nltk.corpus import subjectivity\n",
        "from nltk.sentiment import SentimentAnalyzer\n",
        "from nltk.sentiment.util import *\n",
        "import matplotlib.pyplot as mlpt\n",
        "import csv\n",
        "# !pip install snscrape\n",
        "import datetime as dt\n",
        "import snscrape.modules.twitter as sntwitter"
      ]
    },
    {
      "cell_type": "code",
      "execution_count": 2,
      "metadata": {},
      "outputs": [],
      "source": [
        "from tqdm import tqdm"
      ]
    },
    {
      "cell_type": "code",
      "execution_count": 3,
      "metadata": {
        "id": "HkOBULwofJWg"
      },
      "outputs": [
        {
          "name": "stderr",
          "output_type": "stream",
          "text": [
            "386it [00:25, 15.22it/s]\n"
          ]
        }
      ],
      "source": [
        "tweets = []\n",
        "# Using TwitterSearchScraper to scrape data and append tweets to list\n",
        "for i,tweet in tqdm(enumerate(sntwitter.TwitterSearchScraper('#Black Lives Matter  since:2022-01-01 until:2022-03-30','corona lang:en').get_items())):\n",
        "    tweets.append([tweet.date,  tweet.content])"
      ]
    },
    {
      "cell_type": "code",
      "execution_count": 6,
      "metadata": {
        "id": "NnN8TgDXxroy"
      },
      "outputs": [],
      "source": [
        "tweets = pd.DataFrame(tweets, columns=['Date', 'Tweets'])"
      ]
    },
    {
      "cell_type": "code",
      "execution_count": 7,
      "metadata": {
        "id": "76LJY2Z-vxaU"
      },
      "outputs": [],
      "source": [
        "data=tweets\n",
        "cdata=pd.DataFrame(columns=['Date','Tweets'])\n",
        "index=0\n",
        "for index,row in data.iterrows():\n",
        "    stre=row[\"Tweets\"]\n",
        "    my_new_string = re.sub('[^ a-zA-Z0-9]', '', stre)\n",
        "    cdata.sort_index()\n",
        "    cdata.at[index,'Date']=row[\"Date\"]\n",
        "    cdata.at[index,'Tweets']=my_new_string\n",
        "    index=index+1\n",
        "tweets=cdata\n",
        "tweets['Date'] = tweets['Date'].astype('datetime64[ns]')\n",
        "tweets[\"Date\"]=tweets[\"Date\"].dt.date"
      ]
    },
    {
      "cell_type": "code",
      "execution_count": 8,
      "metadata": {
        "colab": {
          "base_uri": "https://localhost:8080/",
          "height": 206
        },
        "id": "61s2fPu6TT9c",
        "outputId": "cd746c88-d871-4709-86df-128867ebab22"
      },
      "outputs": [
        {
          "data": {
            "text/html": [
              "<div>\n",
              "<style scoped>\n",
              "    .dataframe tbody tr th:only-of-type {\n",
              "        vertical-align: middle;\n",
              "    }\n",
              "\n",
              "    .dataframe tbody tr th {\n",
              "        vertical-align: top;\n",
              "    }\n",
              "\n",
              "    .dataframe thead th {\n",
              "        text-align: right;\n",
              "    }\n",
              "</style>\n",
              "<table border=\"1\" class=\"dataframe\">\n",
              "  <thead>\n",
              "    <tr style=\"text-align: right;\">\n",
              "      <th></th>\n",
              "      <th>Date</th>\n",
              "      <th>Tweets</th>\n",
              "    </tr>\n",
              "  </thead>\n",
              "  <tbody>\n",
              "    <tr>\n",
              "      <th>0</th>\n",
              "      <td>2022-03-29</td>\n",
              "      <td>Dedicated to Martin Luther King Jr  Humans  vi...</td>\n",
              "    </tr>\n",
              "    <tr>\n",
              "      <th>1</th>\n",
              "      <td>2022-03-29</td>\n",
              "      <td>Have we been able to DEFINEwhat a MAN is yetTh...</td>\n",
              "    </tr>\n",
              "    <tr>\n",
              "      <th>2</th>\n",
              "      <td>2022-03-29</td>\n",
              "      <td>Dedicated to Martin Luther King Jr  Humans  vi...</td>\n",
              "    </tr>\n",
              "    <tr>\n",
              "      <th>3</th>\n",
              "      <td>2022-03-28</td>\n",
              "      <td>JUST SITTING HERE WATCHING THE WORLD CONDONE A...</td>\n",
              "    </tr>\n",
              "    <tr>\n",
              "      <th>4</th>\n",
              "      <td>2022-03-28</td>\n",
              "      <td>ZakReckless DiscussingFilm chris rock I guess ...</td>\n",
              "    </tr>\n",
              "  </tbody>\n",
              "</table>\n",
              "</div>"
            ],
            "text/plain": [
              "         Date                                             Tweets\n",
              "0  2022-03-29  Dedicated to Martin Luther King Jr  Humans  vi...\n",
              "1  2022-03-29  Have we been able to DEFINEwhat a MAN is yetTh...\n",
              "2  2022-03-29  Dedicated to Martin Luther King Jr  Humans  vi...\n",
              "3  2022-03-28  JUST SITTING HERE WATCHING THE WORLD CONDONE A...\n",
              "4  2022-03-28  ZakReckless DiscussingFilm chris rock I guess ..."
            ]
          },
          "execution_count": 8,
          "metadata": {},
          "output_type": "execute_result"
        }
      ],
      "source": [
        "tweets.head()"
      ]
    },
    {
      "cell_type": "markdown",
      "metadata": {
        "id": "N13nzV7Bzmdz"
      },
      "source": [
        "#Sentiment Analysis for Tweets"
      ]
    },
    {
      "cell_type": "markdown",
      "metadata": {
        "id": "N78XHzHZ7YTD"
      },
      "source": [
        "Sentiment Analysis is a process of â€˜computationallyâ€™ evaluating whether a piece of text is positive, negative or neutral. In our case, conducting sentiment analysis on tweets help determine the public's moods towards BLM(Black Lives Matter) topic.\n",
        "1.   **VADER (Valence Aware Dictionary and Entiment Reasoner)**\n",
        "\n",
        "```\n",
        "\"VADER is a lexicon and rule-based sentiment analysis tool that is specifically attuned to sentiments expressed\n",
        "in social media. A sentiment lexicon is a list of lexical features (e.g., words) which are generally labeled\n",
        "according to their semantic orientation aseither positive or negative. VADER not only tells about the Positivity\n",
        "and Negativity score but also tells us about how positive or negative a sentiment is.\" (GreeksforGreeks)\n",
        "```\n",
        "2.   **Reference**\n",
        " \n",
        "  Hutto, C.J. & Gilbert, E.E. (2014). VADER: A Parsimonious Rule-based Model for Sentiment Analysis of Social Media Text. Eighth International Conference on Weblogs and Social Media (ICWSM-14). Ann Arbor, MI, June 2014."
      ]
    },
    {
      "cell_type": "code",
      "execution_count": 9,
      "metadata": {
        "colab": {
          "base_uri": "https://localhost:8080/"
        },
        "id": "_OdcFhCfhbO4",
        "outputId": "3203cc36-3a37-4ad5-c2d1-91aad9cb61c7"
      },
      "outputs": [],
      "source": [
        "# !pip install vaderSentiment\n",
        "# !pip install pyspark"
      ]
    },
    {
      "cell_type": "code",
      "execution_count": 4,
      "metadata": {
        "id": "4_1Od8XAhgQk"
      },
      "outputs": [
        {
          "name": "stderr",
          "output_type": "stream",
          "text": [
            "WARNING: An illegal reflective access operation has occurred\n",
            "WARNING: Illegal reflective access by org.apache.spark.unsafe.Platform (file:/Users/josephstar/opt/anaconda3/lib/python3.8/site-packages/pyspark/jars/spark-unsafe_2.12-3.2.1.jar) to constructor java.nio.DirectByteBuffer(long,int)\n",
            "WARNING: Please consider reporting this to the maintainers of org.apache.spark.unsafe.Platform\n",
            "WARNING: Use --illegal-access=warn to enable warnings of further illegal reflective access operations\n",
            "WARNING: All illegal access operations will be denied in a future release\n",
            "Using Spark's default log4j profile: org/apache/spark/log4j-defaults.properties\n",
            "Setting default log level to \"WARN\".\n",
            "To adjust logging level use sc.setLogLevel(newLevel). For SparkR, use setLogLevel(newLevel).\n",
            "22/04/02 21:22:30 WARN NativeCodeLoader: Unable to load native-hadoop library for your platform... using builtin-java classes where applicable\n"
          ]
        }
      ],
      "source": [
        "import pyspark as spark\n",
        "import pandas as pd\n",
        "import warnings\n",
        "warnings.filterwarnings('ignore')\n",
        "from pyspark.sql.types import *\n",
        "from pyspark.sql import SQLContext\n",
        "from pyspark.sql.functions import col,udf,monotonically_increasing_id,unix_timestamp,round,avg\n",
        "import re\n",
        "sc = spark.SparkContext()\n",
        "sql = spark.SQLContext(sc)"
      ]
    },
    {
      "cell_type": "code",
      "execution_count": 5,
      "metadata": {},
      "outputs": [],
      "source": [
        "from vaderSentiment.vaderSentiment import SentimentIntensityAnalyzer"
      ]
    },
    {
      "cell_type": "code",
      "execution_count": 9,
      "metadata": {
        "colab": {
          "base_uri": "https://localhost:8080/"
        },
        "id": "-8Rnh3gShik7",
        "outputId": "cacea988-cd77-474f-f648-d995ae5b45c6"
      },
      "outputs": [
        {
          "name": "stderr",
          "output_type": "stream",
          "text": [
            "                                                                                \r"
          ]
        },
        {
          "name": "stdout",
          "output_type": "stream",
          "text": [
            "+----------+--------------------+-----+-----+-----+-------+\n",
            "| Date_Time|              Tweets|p_neg|p_neu|p_pos| p_comp|\n",
            "+----------+--------------------+-----+-----+-----+-------+\n",
            "|2022-03-29|Dedicated to Mart...|  0.0|0.773|0.227| 0.4767|\n",
            "|2022-03-29|Have we been able...|0.124|0.799|0.076|-0.6268|\n",
            "|2022-03-29|Dedicated to Mart...|  0.0|0.773|0.227| 0.4767|\n",
            "|2022-03-28|JUST SITTING HERE...|0.204|0.705|0.092|-0.8029|\n",
            "|2022-03-28|ZakReckless Discu...|0.094|0.806|  0.1|-0.2023|\n",
            "|2022-03-28|Living my own lif...|  0.0|0.916|0.084| 0.0258|\n",
            "|2022-03-28|jemelehill Im in ...|  0.0|0.894|0.106| 0.4215|\n",
            "|2022-03-28|thetimeline256 In...|0.156|0.808|0.036| -0.694|\n",
            "|2022-03-28|Racism is what se...|0.296|0.662|0.042| -0.836|\n",
            "|2022-03-28|Dedicated to Mart...|  0.0|0.773|0.227| 0.4767|\n",
            "|2022-03-28|BLACK LIVES MATTE...|  0.0|0.686|0.314| 0.2103|\n",
            "|2022-03-27|jemelehill nhanna...|  0.0|0.872|0.128| 0.0516|\n",
            "|2022-03-27|Dedicated to Mart...|  0.0|0.773|0.227| 0.4767|\n",
            "|2022-03-27|Dedicated to Mart...|  0.0|0.773|0.227| 0.4767|\n",
            "|2022-03-26|SenTedCruz While ...|0.131|0.844|0.024|-0.7003|\n",
            "|2022-03-26|What legacy lies ...|0.168|0.807|0.025|-0.7506|\n",
            "|2022-03-26|While we celebrat...|  0.0|0.656|0.344| 0.8374|\n",
            "|2022-03-26|KwizeS Waow now t...|0.266|0.667|0.067|-0.6478|\n",
            "|2022-03-26|Dedicated to Mart...|  0.0|0.773|0.227| 0.4767|\n",
            "|2022-03-25|flakes010 TheEdgy...|  0.0|0.891|0.109| 0.0258|\n",
            "|2022-03-25|Such a mystery wh...|  0.0|  1.0|  0.0|    0.0|\n",
            "|2022-03-25|Dedicated to Mart...|  0.0|0.773|0.227| 0.4767|\n",
            "|2022-03-25|ajahny Democracys...|0.058|0.702| 0.24| 0.9081|\n",
            "|2022-03-25|Black Lives Matte...|0.117|0.829|0.054|-0.3182|\n",
            "|2022-03-25|Dedicated to Mart...|  0.0|0.773|0.227| 0.4767|\n",
            "|2022-03-24|Dedicated to Mart...|  0.0|0.773|0.227| 0.4767|\n",
            "|2022-03-24|iamabayorr Black ...|  0.0|0.784|0.216| 0.0258|\n",
            "|2022-03-24|Dedicated to Mart...|  0.0|0.773|0.227| 0.4767|\n",
            "|2022-03-24|That aint got not...|0.136|0.828|0.036|-0.6124|\n",
            "|2022-03-24|Dedicated to Mart...|  0.0|0.773|0.227| 0.4767|\n",
            "|2022-03-23|iamabayorr Black ...|  0.0|0.732|0.268| 0.0258|\n",
            "|2022-03-23|Dedicated to Mart...|  0.0|0.773|0.227| 0.4767|\n",
            "|2022-03-22|Dedicated to Mart...|  0.0|0.773|0.227| 0.4767|\n",
            "|2022-03-21|My brother on the...|0.211|0.758|0.031|-0.7506|\n",
            "|2022-03-21|In den USA ist di...|0.098|0.902|  0.0|-0.5994|\n",
            "|2022-03-21|Dedicated to Mart...|  0.0|0.773|0.227| 0.4767|\n",
            "|2022-03-21|Pontifex So when ...|0.311|0.658|0.031|-0.9622|\n",
            "|2022-03-20|Dedicated to Mart...|  0.0|0.773|0.227| 0.4767|\n",
            "|2022-03-19|Dedicated to Mart...|  0.0|0.773|0.227| 0.4767|\n",
            "|2022-03-19|Those who chirp a...|0.128|0.773|0.099|-0.2732|\n",
            "|2022-03-19|Black Lives Matte...|0.182|0.707|0.111|-0.1779|\n",
            "|2022-03-18|They be so quick ...|  0.0|0.915|0.085| 0.2617|\n",
            "|2022-03-18|Dedicated to Mart...|  0.0|0.773|0.227| 0.4767|\n",
            "|2022-03-18|lawrenceozie17 Si...|0.246|0.731|0.023|-0.9136|\n",
            "|2022-03-17|SecBlinken hrw Ke...|0.186|0.784| 0.03|-0.7783|\n",
            "|2022-03-17|Dedicated to Mart...|  0.0|0.773|0.227| 0.4767|\n",
            "|2022-03-17|Dedicated to Mart...|  0.0|0.773|0.227| 0.4767|\n",
            "|2022-03-17|Black Lives Matte...|  0.0|0.787|0.213| 0.5574|\n",
            "|2022-03-17|Dedicated to Mart...|  0.0|0.773|0.227| 0.4767|\n",
            "|2022-03-16|Dedicated to Mart...|  0.0|0.773|0.227| 0.4767|\n",
            "|2022-03-16|I develop a theor...|  0.0|0.946|0.054| 0.2103|\n",
            "|2022-03-16|httpstcoekIea4P6j...|0.125|0.769|0.105|-0.4019|\n",
            "|2022-03-16|Black Lives Matte...|  0.0|0.804|0.196| 0.0516|\n",
            "|2022-03-15|Dedicated to Mart...|  0.0|0.773|0.227| 0.4767|\n",
            "|2022-03-15|Dedicated to Mart...|  0.0|0.773|0.227| 0.4767|\n",
            "|2022-03-14|Dedicated to Mart...|  0.0|0.773|0.227| 0.4767|\n",
            "|2022-03-14|Ann Coulter Do th...| 0.17|0.773|0.057|-0.4939|\n",
            "|2022-03-14| Black lives matter |  0.0|0.645|0.355| 0.0258|\n",
            "|2022-03-14| Black lives matter |  0.0|0.645|0.355| 0.0258|\n",
            "|2022-03-13|Dedicated to Mart...|  0.0|0.773|0.227| 0.4767|\n",
            "|2022-03-13|Dedicated to Mart...|  0.0|0.773|0.227| 0.4767|\n",
            "|2022-03-13|George Floyd Blac...|  0.0|0.916|0.084| 0.0258|\n",
            "|2022-03-13|Black Lives Matte...|  0.0|  1.0|  0.0|    0.0|\n",
            "|2022-03-13|GlobalFarmersC1 U...|  0.0|0.843|0.157| 0.4215|\n",
            "|2022-03-12|LaurenSmithFields...| 0.17|0.694|0.136|-0.5624|\n",
            "|2022-03-12|Stop Racism Butto...| 0.47|0.448|0.082|-0.7351|\n",
            "|2022-03-10|MollyJongFast Ah ...|0.048|0.867|0.084| 0.1506|\n",
            "|2022-03-10|Dedicated to Mart...|  0.0|0.773|0.227| 0.4767|\n",
            "|2022-03-10|Dedicated to Mart...|  0.0|0.773|0.227| 0.4767|\n",
            "|2022-03-09|Dedicated to Mart...|  0.0|0.773|0.227| 0.4767|\n",
            "|2022-03-09|Dedicated to Mart...|  0.0|0.773|0.227| 0.4767|\n",
            "|2022-03-08|Dedicated to Mart...|  0.0|0.773|0.227| 0.4767|\n",
            "|2022-03-08| NEW DESIGNS http...|  0.0|0.901|0.099| 0.0258|\n",
            "|2022-03-08|Dedicated to Mart...|  0.0|0.773|0.227| 0.4767|\n",
            "|2022-03-07|Hey BillBarr blac...|  0.0|0.888|0.112|  0.101|\n",
            "|2022-03-07|Dedicated to Mart...|  0.0|0.773|0.227| 0.4767|\n",
            "|2022-03-06|The UN  amp other...|0.037|0.767|0.195| 0.6732|\n",
            "|2022-03-06|Black Lives Matte...|  0.0|0.919|0.081| 0.0516|\n",
            "|2022-03-05|Dedicated to Mart...|  0.0|0.773|0.227| 0.4767|\n",
            "|2022-03-05|goal And blackliv...|0.443|0.557|  0.0|-0.5823|\n",
            "|2022-03-05|ESPNFC Ukraine as...|0.256|0.709|0.035|-0.8462|\n",
            "|2022-03-05| My wealth is in ...|  0.0|0.699|0.301| 0.5106|\n",
            "|2022-03-05|Reuters We can ar...|0.126|0.675|0.198| 0.4588|\n",
            "|2022-03-04|Points I Ponder W...|0.311|0.689|  0.0|-0.9501|\n",
            "|2022-03-04|Dedicated to Mart...|  0.0|0.773|0.227| 0.4767|\n",
            "|2022-03-04|We applaud z swif...|0.059|0.795|0.146| 0.6199|\n",
            "|2022-03-04|Dedicated to Mart...|  0.0|0.773|0.227| 0.4767|\n",
            "|2022-03-04|If we have WWWIII...|0.147|0.705|0.148| 0.0083|\n",
            "|2022-03-03|Dedicated to Mart...|  0.0|0.773|0.227| 0.4767|\n",
            "|2022-03-03|Indian16079570 Th...|  0.0|0.841|0.159| 0.8201|\n",
            "|2022-03-03|Dedicated to Mart...|  0.0|0.773|0.227| 0.4767|\n",
            "|2022-03-03|AJEnglish 263Chat...|0.181|0.802|0.017|-0.9081|\n",
            "|2022-03-03|Cant believe Sec ...|0.373|0.529|0.097|-0.9325|\n",
            "|2022-03-02|AbeonaSemper YouT...|0.142|0.784|0.074|-0.2043|\n",
            "|2022-03-02|Dedicated to Mart...|  0.0|0.773|0.227| 0.4767|\n",
            "|2022-03-02|Ukraine asked the...|0.248|0.717|0.034|-0.8462|\n",
            "|2022-03-02|andybiggs4az http...|0.327|0.643|0.029|-0.9022|\n",
            "|2022-03-02|Ukraine asked the...|0.256|0.709|0.035|-0.8462|\n",
            "|2022-03-02|Dedicated to Mart...|  0.0|0.773|0.227| 0.4767|\n",
            "|2022-03-02|Nonpartisans in c...|  0.0|0.949|0.051| 0.2103|\n",
            "|2022-03-02|Blatant racism  R...|0.166|0.745|0.089|-0.6369|\n",
            "|2022-03-02|Black and Indian ...|0.245|0.638|0.117| -0.296|\n",
            "|2022-03-01|Dedicated to Mart...|  0.0|0.773|0.227| 0.4767|\n",
            "|2022-03-01|Black lives  matt...|  0.0|0.932|0.068| 0.0258|\n",
            "|2022-03-01|Black Lives Matte...|  0.0|0.811|0.189| 0.5574|\n",
            "|2022-03-01|Dedicated to Mart...|  0.0|0.773|0.227| 0.4767|\n",
            "|2022-03-01|Black Lives Matte...|0.119|0.825|0.057| -0.296|\n",
            "|2022-03-01|YES ALL LIVES MAT...|  0.0|0.921|0.079| 0.2263|\n",
            "|2022-03-01|Do black lives ma...|0.205|0.774|0.021|-0.8883|\n",
            "|2022-03-01|Zelensky has deci...|  0.0|0.932|0.068| 0.0258|\n",
            "|2022-02-28|Dedicated to Mart...|  0.0|0.773|0.227| 0.4767|\n",
            "|2022-02-28|A video gone vira...|0.242|0.735|0.023|-0.9081|\n",
            "|2022-02-28|Our lives dont ma...|0.229|0.693|0.078|-0.6677|\n",
            "|2022-02-28|Dedicated to Mart...|  0.0|0.773|0.227| 0.4767|\n",
            "|2022-02-28|Riz black lives m...|  0.0| 0.66| 0.34| 0.3818|\n",
            "|2022-02-28|NikaMelkozerova Y...|0.089|0.821|0.091| 0.0258|\n",
            "|2022-02-28|GMB Black Lives M...|  0.0|0.732|0.268| 0.0258|\n",
            "|2022-02-28|AmySiskind black ...|  0.0|0.732|0.268| 0.0258|\n",
            "|2022-02-28|Black Lives Matte...|  0.0|0.811|0.189| 0.5574|\n",
            "|2022-02-28|SupFletcher Wait ...|  0.0|0.811|0.189| 0.6486|\n",
            "+----------+--------------------+-----+-----+-----+-------+\n",
            "only showing top 120 rows\n",
            "\n"
          ]
        }
      ],
      "source": [
        "FullDataTw=sql.createDataFrame(tweets)\n",
        "FullDataTw = FullDataTw.dropna()\n",
        "FullDataTw.select(monotonically_increasing_id().alias(\"rowId\"),\"*\")\n",
        " #setting column names of Twitter dataset\n",
        "CleanDF = FullDataTw.withColumnRenamed('Tweets', 'Tweet')\n",
        "CleanDF = FullDataTw.withColumnRenamed('Date', 'Date_Time')\n",
        "analyser = SentimentIntensityAnalyzer()\n",
        "def senti_score_udf(sentence):\n",
        "    snt = analyser.polarity_scores(sentence)\n",
        "    return ([snt['neg'], snt['neu'], snt['pos'], snt['compound']])\n",
        "func_udf2 = udf(senti_score_udf, ArrayType(FloatType()))\n",
        "CleanDF = CleanDF.withColumn('p_neg', func_udf2(CleanDF['Tweets'])[0])\n",
        "CleanDF = CleanDF.withColumn('p_neu', func_udf2(CleanDF['Tweets'])[1])\n",
        "CleanDF = CleanDF.withColumn('p_pos', func_udf2(CleanDF['Tweets'])[2])\n",
        "CleanDF = CleanDF.withColumn('p_comp', func_udf2(CleanDF['Tweets'])[3])\n",
        "CleanDF.show(120)\n",
        "CleanDF.toPandas().to_csv('sen.csv')"
      ]
    },
    {
      "cell_type": "markdown",
      "metadata": {
        "id": "dXZJepzI8Idx"
      },
      "source": [
        " **Categorize Sentiments**\n",
        "Once getting the sentiment score for each Tweets, we put them into categories. \n",
        "\n",
        "  $$\\bar{P_{comp}} = \\frac{1}{n}\\sum_{i=1}^{N}P_{{comp}_i}$$\n",
        "\n",
        "  $$\\sigma_{P_{comp}}=\\sqrt{\\frac{1}{n}{\\sum_{k=1}^n(P_{{comp}_i}-\\bar{P_{comp}})^2}}$$\n",
        "\n",
        "  $$Negative \\ Sentiment : \\bar{P_{comp}}-2\\sigma_{P_{comp}}<P_{comp}<\\bar{P_{comp}}-\\sigma_{P_{comp}}$$\n",
        "   \n",
        "  $$Positive\\  Sentiment: \\bar{P_{comp}}+2\\sigma_{P_{comp}}>P_{comp}>\\bar{P_{comp}}+\\sigma_{P_{comp}}$$\n",
        "\n",
        "  $$Neutral \\ Sentiment: [\\bar{P_{comp}}-\\sigma_{P_{comp}} \\ ,\\bar{P_{comp}}+\\sigma_{P_{comp}}\\ ]$$\n",
        "\n",
        "  $$Extremely Negative \\ Sentiment: [P<\\bar{P_{comp}}-2\\sigma_{P_{comp}} ]$$\n",
        "\n",
        "  $$Extremely Postive \\ Sentiment: [P>\\bar{P_{comp}}+2\\sigma_{P_{comp}} ]$$"
      ]
    },
    {
      "cell_type": "code",
      "execution_count": 10,
      "metadata": {
        "id": "YxlRRHuqVSMi"
      },
      "outputs": [],
      "source": [
        "tw=pd.read_csv(\"sen.csv\")\n",
        "tw=tw.drop(columns=[\"Unnamed: 0\"])\n",
        "tw[\"length\"]=\"\"\n",
        "i=0\n",
        "# iterate through the csv file \n",
        "for val in tw[\"Tweets\"]: \n",
        "  val = str(val) \n",
        "  tokens = val.split() \n",
        "  tw[\"length\"][i]=len(tokens)\n",
        "  i=i+1\n",
        "tw=tw.drop(columns=[\"p_neg\",\"p_neu\",\"p_pos\"])"
      ]
    },
    {
      "cell_type": "code",
      "execution_count": 11,
      "metadata": {
        "id": "VWyJS528X2oJ"
      },
      "outputs": [],
      "source": [
        "tw[\"p_comp\"].describe()\n",
        "mean=tw[\"p_comp\"].mean()\n",
        "std=tw[\"p_comp\"].std()\n",
        "tw[\"sentiment\"]=\"\"\n",
        "i=0\n",
        "for val in tw[\"p_comp\"]: \n",
        "  if val> mean+2*std:\n",
        "    tw[\"sentiment\"][i]=\"extremely positive\"\n",
        "  if val< mean-2*std:\n",
        "    tw[\"sentiment\"][i]=\"extremely negative\"\n",
        "  if val>mean+std and val<mean+2*std:\n",
        "    tw[\"sentiment\"][i]=\"positive\"\n",
        "  if val<mean-std and val>mean-2*std:\n",
        "    tw[\"sentiment\"][i]=\"negative\"\n",
        "  if val>mean-std and val<mean+std:\n",
        "    tw[\"sentiment\"][i]=\"neutral\"\n",
        "  i=i+1"
      ]
    },
    {
      "cell_type": "code",
      "execution_count": 12,
      "metadata": {
        "colab": {
          "base_uri": "https://localhost:8080/",
          "height": 423
        },
        "id": "biye4yrIZ7D1",
        "outputId": "9289bce3-e81a-4471-f7ac-c08302e68ebd"
      },
      "outputs": [
        {
          "data": {
            "text/html": [
              "<div>\n",
              "<style scoped>\n",
              "    .dataframe tbody tr th:only-of-type {\n",
              "        vertical-align: middle;\n",
              "    }\n",
              "\n",
              "    .dataframe tbody tr th {\n",
              "        vertical-align: top;\n",
              "    }\n",
              "\n",
              "    .dataframe thead th {\n",
              "        text-align: right;\n",
              "    }\n",
              "</style>\n",
              "<table border=\"1\" class=\"dataframe\">\n",
              "  <thead>\n",
              "    <tr style=\"text-align: right;\">\n",
              "      <th></th>\n",
              "      <th>Date_Time</th>\n",
              "      <th>Tweets</th>\n",
              "      <th>p_comp</th>\n",
              "      <th>length</th>\n",
              "      <th>sentiment</th>\n",
              "    </tr>\n",
              "  </thead>\n",
              "  <tbody>\n",
              "    <tr>\n",
              "      <th>0</th>\n",
              "      <td>2022-03-29</td>\n",
              "      <td>Dedicated to Martin Luther King Jr  Humans  vi...</td>\n",
              "      <td>0.4767</td>\n",
              "      <td>16</td>\n",
              "      <td>neutral</td>\n",
              "    </tr>\n",
              "    <tr>\n",
              "      <th>1</th>\n",
              "      <td>2022-03-29</td>\n",
              "      <td>Have we been able to DEFINEwhat a MAN is yetTh...</td>\n",
              "      <td>-0.6268</td>\n",
              "      <td>38</td>\n",
              "      <td>negative</td>\n",
              "    </tr>\n",
              "    <tr>\n",
              "      <th>2</th>\n",
              "      <td>2022-03-29</td>\n",
              "      <td>Dedicated to Martin Luther King Jr  Humans  vi...</td>\n",
              "      <td>0.4767</td>\n",
              "      <td>16</td>\n",
              "      <td>neutral</td>\n",
              "    </tr>\n",
              "    <tr>\n",
              "      <th>3</th>\n",
              "      <td>2022-03-28</td>\n",
              "      <td>JUST SITTING HERE WATCHING THE WORLD CONDONE A...</td>\n",
              "      <td>-0.8029</td>\n",
              "      <td>44</td>\n",
              "      <td>negative</td>\n",
              "    </tr>\n",
              "    <tr>\n",
              "      <th>4</th>\n",
              "      <td>2022-03-28</td>\n",
              "      <td>ZakReckless DiscussingFilm chris rock I guess ...</td>\n",
              "      <td>-0.2023</td>\n",
              "      <td>28</td>\n",
              "      <td>neutral</td>\n",
              "    </tr>\n",
              "    <tr>\n",
              "      <th>...</th>\n",
              "      <td>...</td>\n",
              "      <td>...</td>\n",
              "      <td>...</td>\n",
              "      <td>...</td>\n",
              "      <td>...</td>\n",
              "    </tr>\n",
              "    <tr>\n",
              "      <th>381</th>\n",
              "      <td>2022-01-02</td>\n",
              "      <td>Dedicated to Desmond Tutu  Humans  via pensign...</td>\n",
              "      <td>0.4767</td>\n",
              "      <td>14</td>\n",
              "      <td>neutral</td>\n",
              "    </tr>\n",
              "    <tr>\n",
              "      <th>382</th>\n",
              "      <td>2022-01-02</td>\n",
              "      <td>Dedicated to Desmond Tutu  Humans  via pensign...</td>\n",
              "      <td>0.4767</td>\n",
              "      <td>14</td>\n",
              "      <td>neutral</td>\n",
              "    </tr>\n",
              "    <tr>\n",
              "      <th>383</th>\n",
              "      <td>2022-01-01</td>\n",
              "      <td>Here Glenn Loury addresses Black Lives Matter ...</td>\n",
              "      <td>-0.9231</td>\n",
              "      <td>34</td>\n",
              "      <td>negative</td>\n",
              "    </tr>\n",
              "    <tr>\n",
              "      <th>384</th>\n",
              "      <td>2022-01-01</td>\n",
              "      <td>Dedicated to Desmond Tutu  Humans  via pensign...</td>\n",
              "      <td>0.4767</td>\n",
              "      <td>14</td>\n",
              "      <td>neutral</td>\n",
              "    </tr>\n",
              "    <tr>\n",
              "      <th>385</th>\n",
              "      <td>2022-01-01</td>\n",
              "      <td>Rcrooks1969 TomiLahren Oh wait I get it nowfro...</td>\n",
              "      <td>0.0000</td>\n",
              "      <td>23</td>\n",
              "      <td>neutral</td>\n",
              "    </tr>\n",
              "  </tbody>\n",
              "</table>\n",
              "<p>386 rows × 5 columns</p>\n",
              "</div>"
            ],
            "text/plain": [
              "      Date_Time                                             Tweets  p_comp  \\\n",
              "0    2022-03-29  Dedicated to Martin Luther King Jr  Humans  vi...  0.4767   \n",
              "1    2022-03-29  Have we been able to DEFINEwhat a MAN is yetTh... -0.6268   \n",
              "2    2022-03-29  Dedicated to Martin Luther King Jr  Humans  vi...  0.4767   \n",
              "3    2022-03-28  JUST SITTING HERE WATCHING THE WORLD CONDONE A... -0.8029   \n",
              "4    2022-03-28  ZakReckless DiscussingFilm chris rock I guess ... -0.2023   \n",
              "..          ...                                                ...     ...   \n",
              "381  2022-01-02  Dedicated to Desmond Tutu  Humans  via pensign...  0.4767   \n",
              "382  2022-01-02  Dedicated to Desmond Tutu  Humans  via pensign...  0.4767   \n",
              "383  2022-01-01  Here Glenn Loury addresses Black Lives Matter ... -0.9231   \n",
              "384  2022-01-01  Dedicated to Desmond Tutu  Humans  via pensign...  0.4767   \n",
              "385  2022-01-01  Rcrooks1969 TomiLahren Oh wait I get it nowfro...  0.0000   \n",
              "\n",
              "    length sentiment  \n",
              "0       16   neutral  \n",
              "1       38  negative  \n",
              "2       16   neutral  \n",
              "3       44  negative  \n",
              "4       28   neutral  \n",
              "..     ...       ...  \n",
              "381     14   neutral  \n",
              "382     14   neutral  \n",
              "383     34  negative  \n",
              "384     14   neutral  \n",
              "385     23   neutral  \n",
              "\n",
              "[386 rows x 5 columns]"
            ]
          },
          "execution_count": 12,
          "metadata": {},
          "output_type": "execute_result"
        }
      ],
      "source": [
        "tw"
      ]
    },
    {
      "cell_type": "markdown",
      "metadata": {
        "id": "1ELSoAKoUW4Q"
      },
      "source": [
        "# Exercise2"
      ]
    },
    {
      "cell_type": "markdown",
      "metadata": {
        "id": "9gfQy_3OUbWU"
      },
      "source": [
        "#### Crawl data from twitter with another topic and do sentiment analysis on the data, after you get the results, try to use graphs to visualize the sentiment analysis results (any type of graph that could satisfy your purpose)"
      ]
    },
    {
      "cell_type": "markdown",
      "metadata": {},
      "source": [
        "## Tweets are crawled for the sentence: \"Stop Asian Hate\" for 1 month"
      ]
    },
    {
      "cell_type": "code",
      "execution_count": 14,
      "metadata": {
        "id": "4sccvfTwUw2W"
      },
      "outputs": [
        {
          "name": "stderr",
          "output_type": "stream",
          "text": [
            "2585it [02:10, 19.86it/s]\n"
          ]
        }
      ],
      "source": [
        "tweets = []\n",
        "# Using TwitterSearchScraper to scrape data and append tweets to list\n",
        "for i,tweet in tqdm(enumerate(sntwitter.TwitterSearchScraper('Stop Asian Hate  since:2022-01-01 until:2022-01-30','corona lang:en').get_items())):\n",
        "    tweets.append([tweet.date,  tweet.content])"
      ]
    },
    {
      "cell_type": "code",
      "execution_count": 16,
      "metadata": {},
      "outputs": [],
      "source": [
        "tweets = pd.DataFrame(tweets, columns=['Date', 'Tweets'])\n",
        "data=tweets\n",
        "cdata=pd.DataFrame(columns=['Date','Tweets'])\n",
        "index=0\n",
        "for index,row in data.iterrows():\n",
        "    stre=row[\"Tweets\"]\n",
        "    my_new_string = re.sub('[^ a-zA-Z0-9]', '', stre)\n",
        "    cdata.sort_index()\n",
        "    cdata.at[index,'Date']=row[\"Date\"]\n",
        "    cdata.at[index,'Tweets']=my_new_string\n",
        "    index=index+1\n",
        "tweets=cdata\n",
        "tweets['Date'] = tweets['Date'].astype('datetime64[ns]')\n",
        "tweets[\"Date\"]=tweets[\"Date\"].dt.date"
      ]
    },
    {
      "cell_type": "code",
      "execution_count": 17,
      "metadata": {},
      "outputs": [
        {
          "name": "stdout",
          "output_type": "stream",
          "text": [
            "+----------+--------------------+-----+-----+-----+-------+\n",
            "| Date_Time|              Tweets|p_neg|p_neu|p_pos| p_comp|\n",
            "+----------+--------------------+-----+-----+-----+-------+\n",
            "|2022-01-29|NYCMayor Come on ...|0.363|0.605|0.032|-0.9628|\n",
            "|2022-01-29|heyafricans amina...|0.663|0.337|  0.0|-0.7096|\n",
            "|2022-01-29|Hate against Asia...|0.242|0.758|  0.0|-0.8625|\n",
            "|2022-01-29|People act so fak...|0.374|0.569|0.057|-0.9318|\n",
            "|2022-01-29|BuzzFeedCeleb Sto...|0.747|0.253|  0.0|-0.7096|\n",
            "|2022-01-29|50 volunteers cam...|  0.2|0.593|0.207| 0.1027|\n",
            "|2022-01-29|TeagueisTrash yoo...|0.639|0.361|  0.0|-0.9423|\n",
            "|2022-01-29|CentristRally18 y...|0.348|0.619|0.033|-0.9657|\n",
            "|2022-01-29|A ver blinks y kp...|0.147|0.853|  0.0|-0.7964|\n",
            "|2022-01-29|Noa llamas las st...|0.371|0.629|  0.0|-0.7096|\n",
            "|2022-01-29|Impact of so call...|0.277|0.596|0.127|-0.8707|\n",
            "|2022-01-29|Impact of so call...|0.304|0.574|0.122|-0.9013|\n",
            "|2022-01-29|Comedy is subject...| 0.21|0.587|0.203|-0.1015|\n",
            "|2022-01-29|DIGITALG00N But i...|0.444|0.556|  0.0|-0.9152|\n",
            "|2022-01-29|April 6 2021  No ...| 0.32| 0.68|  0.0|-0.9631|\n",
            "|2022-01-29|Yokookapuxhi te r...|0.247|0.753|  0.0|-0.7096|\n",
            "|2022-01-29|JimmyKimmelLive W...|0.488|0.413|0.099|-0.6908|\n",
            "|2022-01-29|The day white peo...| 0.21|0.663|0.127|-0.4588|\n",
            "|2022-01-29|moonkumiko Dont c...|0.131|0.869|  0.0|-0.7096|\n",
            "|2022-01-29|TacticalReds Unit...|0.309|0.425|0.266|-0.0811|\n",
            "|2022-01-29|When 911 happened...|0.161|0.682|0.157|-0.3133|\n",
            "|2022-01-29|omermeroz Stop As...|0.291|0.493|0.217|-0.3612|\n",
            "|2022-01-29|Stop asian hateJi...|0.524|0.476|  0.0| -0.296|\n",
            "|2022-01-29|2VariedDegrees Fi...|0.304|0.696|  0.0|-0.8338|\n",
            "|2022-01-29|desilovergirl how...|0.219|0.781|  0.0|-0.7096|\n",
            "|2022-01-29|While analysts st...| 0.35|0.606|0.044|-0.9531|\n",
            "|2022-01-29|No More RacismSto...|0.306|0.694|  0.0| -0.296|\n",
            "|2022-01-29|httpstcoD9UtXrbDP...| 0.33| 0.67|  0.0|-0.7096|\n",
            "|2022-01-29|I would like to r...|0.444|0.511|0.046|-0.9675|\n",
            "|2022-01-29|Stop Asian Hate i...|0.214|0.412|0.374| 0.7898|\n",
            "|2022-01-29|Please show respe...|0.255|0.686|0.059|-0.9224|\n",
            "|2022-01-29|JiminiMiniPablo T...|0.179|0.717|0.104|-0.5859|\n",
            "|2022-01-29|StopAsianHate i t...|0.322|0.478|  0.2|-0.8242|\n",
            "|2022-01-29|Stop Asian Hate S...|0.327|0.622|0.052|-0.9261|\n",
            "|2022-01-29|deaht78887688 Isa...|0.204|0.796|  0.0|-0.7096|\n",
            "|2022-01-29|RDCRaissa BlackPo...|0.371|0.629|  0.0|-0.7096|\n",
            "|2022-01-29|I myself Being a ...|0.505|0.458|0.037|-0.9467|\n",
            "|2022-01-29|shiwhehdb3738 Asi...|0.266| 0.61|0.124|-0.8911|\n",
            "|2022-01-29|Lmao yall are jus...|0.235|0.536|0.229|-0.0772|\n",
            "|2022-01-29|Im sorry but yall...|0.422|0.578|  0.0|-0.9861|\n",
            "|2022-01-29|the stop asian ha...|0.366|0.497|0.137|-0.5719|\n",
            "|2022-01-29|icoboo this gives...|0.371|0.629|  0.0|-0.7096|\n",
            "|2022-01-29|stop the asian ha...|0.187|0.601|0.212| 0.2023|\n",
            "|2022-01-29|Vanray97Ness remk...|0.197|0.803|  0.0|-0.7096|\n",
            "|2022-01-29|JimmyKimmelRacist...| 0.24|0.492|0.268| 0.1283|\n",
            "|2022-01-29|Dont Stop Asian h...|  0.0|0.614|0.386| 0.2235|\n",
            "|2022-01-29|Dont Stop Asian hate|  0.0| 0.29| 0.71| 0.5975|\n",
            "|2022-01-29|JimmyKimmelRacist...|0.401|0.389| 0.21|-0.7089|\n",
            "|2022-01-29|iIuvmychoppas sin...| 0.28| 0.72|  0.0|-0.9524|\n",
            "|2022-01-29|these people are ...|0.442|0.558|  0.0|-0.9531|\n",
            "|2022-01-29|Please show respe...|  0.3|0.455|0.246|-0.2944|\n",
            "|2022-01-29|Please help and s...|0.309|0.314|0.377| 0.0772|\n",
            "|2022-01-29|STOP ASIAN HATEJi...|0.595|0.405|  0.0|-0.4466|\n",
            "|2022-01-29|STOP ASIAN HATE O...|0.454|0.462|0.085|-0.7003|\n",
            "|2022-01-29|Please show respe...| 0.33|0.449| 0.22|-0.5709|\n",
            "|2022-01-29|Please show respe...| 0.33|0.449| 0.22|-0.5709|\n",
            "|2022-01-29|Please show respe...|0.255|0.686|0.059|-0.9224|\n",
            "|2022-01-29|BTS is most of th...|0.193| 0.77|0.037|-0.8261|\n",
            "|2022-01-29|Please show respe...|0.255|0.686|0.059|-0.9224|\n",
            "|2022-01-29|Stop Hate AsianSt...|0.327|0.608|0.065|-0.9247|\n",
            "|2022-01-29|Stop Asian hateJi...|0.524|0.476|  0.0| -0.296|\n",
            "|2022-01-29|Stop asian hate s...|0.267|0.628|0.105|-0.8765|\n",
            "|2022-01-29|AlabamaDoggo omer...|0.279|0.721|  0.0|-0.8519|\n",
            "|2022-01-29|Jooniescrabby STO...|0.786|0.214|  0.0|-0.8109|\n",
            "|2022-01-29|JimmyKimmelRacist...|0.327|0.547|0.126|-0.9556|\n",
            "|2022-01-29|Jimmy kimmel bein...|0.312|0.575|0.113|-0.8399|\n",
            "|2022-01-29|pintoawards stop ...|0.747|0.253|  0.0|-0.7096|\n",
            "|2022-01-29|bbb22 stop asian ...|0.747|0.253|  0.0|-0.7096|\n",
            "|2022-01-29|stop asian hate P...|0.747|0.253|  0.0|-0.7096|\n",
            "|2022-01-29|stop asian hate f1jp|0.747|0.253|  0.0|-0.7096|\n",
            "|2022-01-29|stop asian hate J...|0.747|0.253|  0.0|-0.7096|\n",
            "|2022-01-29|But even more tha...|0.319|0.577|0.104|-0.9248|\n",
            "|2022-01-29|rasistStop Asian ...|0.649|0.351|  0.0|-0.5719|\n",
            "|2022-01-29|Please show respe...|0.255|0.686|0.059|-0.9224|\n",
            "|2022-01-29|jimmykimmel Do yo...|0.221|0.664|0.115|-0.7003|\n",
            "|2022-01-29|RmRei7 Stop Asian...|0.355|0.645|  0.0| -0.296|\n",
            "|2022-01-29|jimmy kimmel shou...|0.313|0.652|0.035|-0.9043|\n",
            "|2022-01-29|Please show respe...|  0.3|0.455|0.246|-0.2944|\n",
            "|2022-01-29|Please show respe...|  0.3|0.455|0.246|-0.2944|\n",
            "|2022-01-29|stop asian hate h...|0.747|0.253|  0.0|-0.7096|\n",
            "|2022-01-29|babypurplee Bangt...|0.247|0.753|  0.0|-0.7096|\n",
            "|2022-01-29|tariqnasheed are ...|0.213|0.532|0.255| 0.0736|\n",
            "|2022-01-29|And honestly this...|0.181|0.744|0.074|-0.7845|\n",
            "|2022-01-29|1 THREAD on Asian...|0.242|0.758|  0.0|-0.9153|\n",
            "|2022-01-29|JimmyKimmelisRACI...|0.169|0.831|  0.0|-0.7096|\n",
            "|2022-01-29|We Added Verifiab...|0.185|0.767|0.048|-0.6428|\n",
            "|2022-01-29|StopAsianHateIs n...|0.493|0.507|  0.0|-0.7775|\n",
            "|2022-01-29|NO TO HATENO TO R...|0.122|0.704|0.174| 0.3109|\n",
            "|2022-01-29|they are Asian be...|0.293| 0.67|0.036|-0.9349|\n",
            "|2022-01-29|Apologize jimmyki...|0.634|0.215|0.151|-0.6705|\n",
            "|2022-01-29|Please show respe...|0.287|0.478|0.235|-0.2944|\n",
            "|2022-01-29| walk f u and you...|0.582|0.418|  0.0|-0.9588|\n",
            "|2022-01-29|As a celebrity co...|0.256|0.544|  0.2|-0.4213|\n",
            "|2022-01-29|ghostsatoshi47 yo...|0.319|0.612|0.069|-0.9501|\n",
            "|2022-01-29|Please show respe...|  0.3|0.455|0.246|-0.2944|\n",
            "|2022-01-29|CeFaanKim stop as...|0.409|0.591|  0.0|-0.9423|\n",
            "|2022-01-29|ArmyConnect Stop ...|0.663|0.337|  0.0|-0.7096|\n",
            "|2022-01-29|we dont need such...|0.384|0.393|0.224| -0.743|\n",
            "|2022-01-29|GComixxx I have n...|0.214|0.734|0.052|-0.8057|\n",
            "|2022-01-29|remkoobi The fact...|0.362|0.517|0.121|-0.8555|\n",
            "|2022-01-29|Your action to st...|0.249|0.657|0.094|  -0.83|\n",
            "|2022-01-29|Applebees Please ...|0.196|0.711|0.093|-0.7351|\n",
            "|2022-01-29|As a celebrity co...|0.256|0.544|  0.2|-0.4213|\n",
            "|2022-01-29|As a celebrity co...|0.256|0.544|  0.2|-0.4213|\n",
            "|2022-01-29|not only did kimm...|0.334|0.571|0.094|-0.9587|\n",
            "|2022-01-29|As a celebrity co...|0.256|0.544|  0.2|-0.4213|\n",
            "|2022-01-29|JimmyKimmelRacist...|  0.0|0.791|0.209| 0.6757|\n",
            "|2022-01-29|JimmyKimmelLive S...|0.313|0.575|0.112|-0.8272|\n",
            "|2022-01-29|     Stop Asian Hate|0.855|0.145|  0.0|-0.7096|\n",
            "|2022-01-29|CSChungLaw Thank ...|0.264|0.606| 0.13|-0.8074|\n",
            "|2022-01-29|realRoseMulet A w...|0.312|0.547|0.142|-0.8126|\n",
            "|2022-01-29|TeenVogue thank y...|0.305|0.655| 0.04|-0.9294|\n",
            "|2022-01-29|stop asian hate f...|0.541|0.459|  0.0|-0.7096|\n",
            "|2022-01-29|Yes stop asian ha...|0.348|0.543|0.109|-0.8316|\n",
            "|2022-01-29|chinanotenemy cod...|0.371|0.629|  0.0|-0.7096|\n",
            "|2022-01-29|babypurplee Stop ...|0.282|0.718|  0.0|-0.7096|\n",
            "|2022-01-29|Stop asian hate u...|0.409|0.477|0.114|-0.9259|\n",
            "|2022-01-29|APOLOGIZESTOP ASI...|  0.0|  1.0|  0.0|    0.0|\n",
            "|2022-01-29|akunhiburan123 Na...| 0.41| 0.59|  0.0|-0.8957|\n",
            "|2022-01-29|JimmyKimmelRacist...|0.161|0.787|0.052|-0.6472|\n",
            "+----------+--------------------+-----+-----+-----+-------+\n",
            "only showing top 120 rows\n",
            "\n"
          ]
        }
      ],
      "source": [
        "FullDataTw=sql.createDataFrame(tweets)\n",
        "FullDataTw = FullDataTw.dropna()\n",
        "FullDataTw.select(monotonically_increasing_id().alias(\"rowId\"),\"*\")\n",
        " #setting column names of Twitter dataset\n",
        "CleanDF = FullDataTw.withColumnRenamed('Tweets', 'Tweet')\n",
        "CleanDF = FullDataTw.withColumnRenamed('Date', 'Date_Time')\n",
        "analyser = SentimentIntensityAnalyzer()\n",
        "def senti_score_udf(sentence):\n",
        "    snt = analyser.polarity_scores(sentence)\n",
        "    return ([snt['neg'], snt['neu'], snt['pos'], snt['compound']])\n",
        "func_udf2 = udf(senti_score_udf, ArrayType(FloatType()))\n",
        "CleanDF = CleanDF.withColumn('p_neg', func_udf2(CleanDF['Tweets'])[0])\n",
        "CleanDF = CleanDF.withColumn('p_neu', func_udf2(CleanDF['Tweets'])[1])\n",
        "CleanDF = CleanDF.withColumn('p_pos', func_udf2(CleanDF['Tweets'])[2])\n",
        "CleanDF = CleanDF.withColumn('p_comp', func_udf2(CleanDF['Tweets'])[3])\n",
        "CleanDF.show(120)\n",
        "CleanDF.toPandas().to_csv('sen.csv')"
      ]
    },
    {
      "cell_type": "code",
      "execution_count": 18,
      "metadata": {},
      "outputs": [],
      "source": [
        "tw=pd.read_csv(\"sen.csv\")\n",
        "tw=tw.drop(columns=[\"Unnamed: 0\"])\n",
        "tw[\"length\"]=\"\"\n",
        "i=0\n",
        "# iterate through the csv file \n",
        "for val in tw[\"Tweets\"]: \n",
        "  val = str(val) \n",
        "  tokens = val.split() \n",
        "  tw[\"length\"][i]=len(tokens)\n",
        "  i=i+1\n",
        "tw=tw.drop(columns=[\"p_neg\",\"p_neu\",\"p_pos\"])"
      ]
    },
    {
      "cell_type": "code",
      "execution_count": 19,
      "metadata": {},
      "outputs": [],
      "source": [
        "# tw[\"p_comp\"].describe()\n",
        "mean=tw[\"p_comp\"].mean()\n",
        "std=tw[\"p_comp\"].std()\n",
        "tw[\"sentiment\"]=\"\"\n",
        "i=0\n",
        "for val in tw[\"p_comp\"]: \n",
        "  if val> mean+2*std:\n",
        "    tw[\"sentiment\"][i]=\"extremely positive\"\n",
        "  if val< mean-2*std:\n",
        "    tw[\"sentiment\"][i]=\"extremely negative\"\n",
        "  if val>mean+std and val<mean+2*std:\n",
        "    tw[\"sentiment\"][i]=\"positive\"\n",
        "  if val<mean-std and val>mean-2*std:\n",
        "    tw[\"sentiment\"][i]=\"negative\"\n",
        "  if val>mean-std and val<mean+std:\n",
        "    tw[\"sentiment\"][i]=\"neutral\"\n",
        "  i=i+1"
      ]
    },
    {
      "cell_type": "code",
      "execution_count": 58,
      "metadata": {},
      "outputs": [],
      "source": [
        "tw['Date_Time'] = pd.to_datetime(tw['Date_Time'], format=r'%Y-%m%d')\n",
        "dt_grp = tw.groupby(by='Date_Time')"
      ]
    },
    {
      "cell_type": "code",
      "execution_count": 59,
      "metadata": {},
      "outputs": [
        {
          "data": {
            "text/plain": [
              "True"
            ]
          },
          "execution_count": 59,
          "metadata": {},
          "output_type": "execute_result"
        }
      ],
      "source": [
        "'negative' in tw['sentiment'].value_counts().index"
      ]
    },
    {
      "cell_type": "code",
      "execution_count": 60,
      "metadata": {},
      "outputs": [],
      "source": [
        "alsmtcs = tw['sentiment'].value_counts().index"
      ]
    },
    {
      "cell_type": "code",
      "execution_count": 61,
      "metadata": {},
      "outputs": [
        {
          "name": "stderr",
          "output_type": "stream",
          "text": [
            "100%|██████████| 29/29 [00:00<00:00, 1944.07it/s]\n"
          ]
        }
      ],
      "source": [
        "iterDic = dict()\n",
        "for dayMth, df in tqdm(dt_grp):\n",
        "    srssent = df['sentiment'].value_counts()\n",
        "    tmpdic = dict()\n",
        "    for smtc in alsmtcs:\n",
        "        if smtc in srssent.index:\n",
        "            tmpdic[smtc] = srssent[smtc]\n",
        "        else:\n",
        "            tmpdic[smtc] = 0\n",
        "\n",
        "    iterDic[dayMth] = tmpdic"
      ]
    },
    {
      "cell_type": "code",
      "execution_count": 62,
      "metadata": {},
      "outputs": [
        {
          "data": {
            "text/html": [
              "<div>\n",
              "<style scoped>\n",
              "    .dataframe tbody tr th:only-of-type {\n",
              "        vertical-align: middle;\n",
              "    }\n",
              "\n",
              "    .dataframe tbody tr th {\n",
              "        vertical-align: top;\n",
              "    }\n",
              "\n",
              "    .dataframe thead th {\n",
              "        text-align: right;\n",
              "    }\n",
              "</style>\n",
              "<table border=\"1\" class=\"dataframe\">\n",
              "  <thead>\n",
              "    <tr style=\"text-align: right;\">\n",
              "      <th></th>\n",
              "      <th>2022-01-01</th>\n",
              "      <th>2022-01-02</th>\n",
              "      <th>2022-01-03</th>\n",
              "      <th>2022-01-04</th>\n",
              "      <th>2022-01-05</th>\n",
              "      <th>2022-01-06</th>\n",
              "      <th>2022-01-07</th>\n",
              "      <th>2022-01-08</th>\n",
              "      <th>2022-01-09</th>\n",
              "      <th>2022-01-10</th>\n",
              "      <th>...</th>\n",
              "      <th>2022-01-20</th>\n",
              "      <th>2022-01-21</th>\n",
              "      <th>2022-01-22</th>\n",
              "      <th>2022-01-23</th>\n",
              "      <th>2022-01-24</th>\n",
              "      <th>2022-01-25</th>\n",
              "      <th>2022-01-26</th>\n",
              "      <th>2022-01-27</th>\n",
              "      <th>2022-01-28</th>\n",
              "      <th>2022-01-29</th>\n",
              "    </tr>\n",
              "  </thead>\n",
              "  <tbody>\n",
              "    <tr>\n",
              "      <th>neutral</th>\n",
              "      <td>29</td>\n",
              "      <td>70</td>\n",
              "      <td>63</td>\n",
              "      <td>53</td>\n",
              "      <td>50</td>\n",
              "      <td>46</td>\n",
              "      <td>41</td>\n",
              "      <td>51</td>\n",
              "      <td>79</td>\n",
              "      <td>50</td>\n",
              "      <td>...</td>\n",
              "      <td>120</td>\n",
              "      <td>106</td>\n",
              "      <td>144</td>\n",
              "      <td>64</td>\n",
              "      <td>70</td>\n",
              "      <td>53</td>\n",
              "      <td>79</td>\n",
              "      <td>63</td>\n",
              "      <td>86</td>\n",
              "      <td>185</td>\n",
              "    </tr>\n",
              "    <tr>\n",
              "      <th>positive</th>\n",
              "      <td>5</td>\n",
              "      <td>4</td>\n",
              "      <td>4</td>\n",
              "      <td>4</td>\n",
              "      <td>4</td>\n",
              "      <td>0</td>\n",
              "      <td>5</td>\n",
              "      <td>3</td>\n",
              "      <td>6</td>\n",
              "      <td>2</td>\n",
              "      <td>...</td>\n",
              "      <td>10</td>\n",
              "      <td>14</td>\n",
              "      <td>11</td>\n",
              "      <td>9</td>\n",
              "      <td>3</td>\n",
              "      <td>4</td>\n",
              "      <td>5</td>\n",
              "      <td>5</td>\n",
              "      <td>8</td>\n",
              "      <td>20</td>\n",
              "    </tr>\n",
              "    <tr>\n",
              "      <th>extremely positive</th>\n",
              "      <td>3</td>\n",
              "      <td>4</td>\n",
              "      <td>5</td>\n",
              "      <td>3</td>\n",
              "      <td>3</td>\n",
              "      <td>2</td>\n",
              "      <td>9</td>\n",
              "      <td>11</td>\n",
              "      <td>5</td>\n",
              "      <td>3</td>\n",
              "      <td>...</td>\n",
              "      <td>8</td>\n",
              "      <td>6</td>\n",
              "      <td>6</td>\n",
              "      <td>1</td>\n",
              "      <td>3</td>\n",
              "      <td>3</td>\n",
              "      <td>4</td>\n",
              "      <td>1</td>\n",
              "      <td>8</td>\n",
              "      <td>18</td>\n",
              "    </tr>\n",
              "    <tr>\n",
              "      <th>negative</th>\n",
              "      <td>0</td>\n",
              "      <td>0</td>\n",
              "      <td>0</td>\n",
              "      <td>0</td>\n",
              "      <td>0</td>\n",
              "      <td>0</td>\n",
              "      <td>0</td>\n",
              "      <td>0</td>\n",
              "      <td>0</td>\n",
              "      <td>0</td>\n",
              "      <td>...</td>\n",
              "      <td>0</td>\n",
              "      <td>1</td>\n",
              "      <td>2</td>\n",
              "      <td>0</td>\n",
              "      <td>0</td>\n",
              "      <td>0</td>\n",
              "      <td>0</td>\n",
              "      <td>1</td>\n",
              "      <td>0</td>\n",
              "      <td>1</td>\n",
              "    </tr>\n",
              "  </tbody>\n",
              "</table>\n",
              "<p>4 rows × 29 columns</p>\n",
              "</div>"
            ],
            "text/plain": [
              "                    2022-01-01  2022-01-02  2022-01-03  2022-01-04  \\\n",
              "neutral                     29          70          63          53   \n",
              "positive                     5           4           4           4   \n",
              "extremely positive           3           4           5           3   \n",
              "negative                     0           0           0           0   \n",
              "\n",
              "                    2022-01-05  2022-01-06  2022-01-07  2022-01-08  \\\n",
              "neutral                     50          46          41          51   \n",
              "positive                     4           0           5           3   \n",
              "extremely positive           3           2           9          11   \n",
              "negative                     0           0           0           0   \n",
              "\n",
              "                    2022-01-09  2022-01-10  ...  2022-01-20  2022-01-21  \\\n",
              "neutral                     79          50  ...         120         106   \n",
              "positive                     6           2  ...          10          14   \n",
              "extremely positive           5           3  ...           8           6   \n",
              "negative                     0           0  ...           0           1   \n",
              "\n",
              "                    2022-01-22  2022-01-23  2022-01-24  2022-01-25  \\\n",
              "neutral                    144          64          70          53   \n",
              "positive                    11           9           3           4   \n",
              "extremely positive           6           1           3           3   \n",
              "negative                     2           0           0           0   \n",
              "\n",
              "                    2022-01-26  2022-01-27  2022-01-28  2022-01-29  \n",
              "neutral                     79          63          86         185  \n",
              "positive                     5           5           8          20  \n",
              "extremely positive           4           1           8          18  \n",
              "negative                     0           1           0           1  \n",
              "\n",
              "[4 rows x 29 columns]"
            ]
          },
          "execution_count": 62,
          "metadata": {},
          "output_type": "execute_result"
        }
      ],
      "source": [
        "dfsmtcJan = pd.DataFrame(iterDic)\n",
        "dfsmtcJan"
      ]
    },
    {
      "cell_type": "code",
      "execution_count": 65,
      "metadata": {},
      "outputs": [],
      "source": [
        "import matplotlib.pyplot as plt\n",
        "import seaborn as sns\n",
        "from matplotlib.dates import DateFormatter"
      ]
    },
    {
      "cell_type": "markdown",
      "metadata": {},
      "source": [
        "## Below Figure shows how the daily count of different semantic change over time"
      ]
    },
    {
      "cell_type": "code",
      "execution_count": 78,
      "metadata": {},
      "outputs": [
        {
          "data": {
            "image/png": "[encoded data removed]",
            "text/plain": [
              "<Figure size 1800x720 with 1 Axes>"
            ]
          },
          "metadata": {
            "needs_background": "light"
          },
          "output_type": "display_data"
        }
      ],
      "source": [
        "fig, ax = plt.subplots(figsize= (25,10))\n",
        "# ax.plot\n",
        "\n",
        "dfsmtcJan.transpose().plot(kind='bar',stacked=True, ax= ax)\n",
        "myFmt = DateFormatter(\"%d\")\n",
        "ax.xaxis.set_major_formatter(myFmt)\n",
        "\n",
        "ax.set_title(\"Daily Change of Semantic Count related to Stop Asian Hate tweets in Jan 2022\")\n",
        "ax.set_xlabel(\"Date\")\n",
        "ax.set_ylabel(\"Tweet Counts\")\n",
        "plt.xticks(rotation=10)\n",
        "plt.show()\n"
      ]
    }
  ],
  "metadata": {
    "colab": {
      "name": "Notebook2_Sentiment_Analysis.ipynb",
      "provenance": []
    },
    "interpreter": {
      "hash": "58a471835ae2f10269f12ec5e12239f3dceb755abe1bb7b75e22c2e664d9779f"
    },
    "kernelspec": {
      "display_name": "Python 3.8.2 ('base')",
      "language": "python",
      "name": "python3"
    },
    "language_info": {
      "codemirror_mode": {
        "name": "ipython",
        "version": 3
      },
      "file_extension": ".py",
      "mimetype": "text/x-python",
      "name": "python",
      "nbconvert_exporter": "python",
      "pygments_lexer": "ipython3",
      "version": "3.8.2"
    }
  },
  "nbformat": 4,
  "nbformat_minor": 0
}
